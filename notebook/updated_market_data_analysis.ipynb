{
  "cells": [
    {
      "cell_type": "markdown",
      "metadata": {
        "id": "queRi7ykoCX3"
      },
      "source": [
        "# **Build Knowledge Graph RAG With LlamaIndex**"
      ]
    },
    {
      "cell_type": "markdown",
      "metadata": {
        "id": "AqUcWetToViE"
      },
      "source": [
        "![image.png](https://images.pexels.com/photos/30381207/pexels-photo-30381207/free-photo-of-modern-trading-desk-with-graphs-and-gadgets.jpeg?auto=compress&cs=tinysrgb&w=1260&h=750&dpr=2)"
      ]
    },
    {
      "cell_type": "markdown",
      "metadata": {
        "id": "m0KfpLbFCr3o"
      },
      "source": [
        "## **Approach**\n",
        "\n",
        "\n",
        "* **Data Collection:** Gather financial data from multiple sources such as stock feeds, news websites, and industry reports using Google search engine API and scraping techniques\n",
        "\n",
        "\n",
        "* **Knowledge Graph Construction:** Build a knowledge graph to represent relationships between extracted entities like companies, market trends, and sectors using neo4j\n",
        "\n",
        "\n",
        "* **Vector Embedding and Indexing**\n",
        "  - Convert textual data into vector embeddings using OpenAI\n",
        "  - Index data using LlamaIndex to enable retrieval-augmented generation\n",
        "\n",
        "* RAG Workflow Integration\n",
        "  - Query the vector database to fetch relevant context and related entities from the knowledge graph\n",
        "  - Use OpenAI to generate contextually accurate and actionable responses\n"
      ]
    },
    {
      "cell_type": "code",
      "execution_count": null,
      "metadata": {
        "id": "j_nQemoK1x7W"
      },
      "outputs": [],
      "source": [
        "!pip install llama-index\n",
        "!pip install llama-index-llms-openai\n",
        "!pip install llama-index-graph-stores-neo4j\n",
        "!pip install llama-index-embeddings-openai"
      ]
    },
    {
      "cell_type": "code",
      "execution_count": 11,
      "metadata": {
        "id": "KHrCRA-42UXr"
      },
      "outputs": [],
      "source": [
        "from llama_index.core import SimpleDirectoryReader\n",
        "from llama_index.core import PropertyGraphIndex\n",
        "from llama_index.embeddings.openai import OpenAIEmbedding\n",
        "from llama_index.llms.openai import OpenAI\n",
        "import os\n",
        "import openai\n",
        "from llama_index.core.indices.property_graph import SchemaLLMPathExtractor\n",
        "from llama_index.graph_stores.neo4j import Neo4jPropertyGraphStore\n",
        "import nest_asyncio\n",
        "import asyncio"
      ]
    },
    {
      "cell_type": "code",
      "execution_count": 5,
      "metadata": {
        "id": "N64dtVlNdJaX"
      },
      "outputs": [],
      "source": [
        "google_api = \"enterapi_key\"\n",
        "search_engine_id = \"enter_id\"\n",
        "open_ai_key = \"enter_openai_key\""
      ]
    },
    {
      "cell_type": "code",
      "execution_count": 12,
      "metadata": {
        "id": "ZUveBytU_MGj"
      },
      "outputs": [],
      "source": [
        "# Apply nest_asyncio\n",
        "nest_asyncio.apply()"
      ]
    },
    {
      "cell_type": "code",
      "execution_count": 9,
      "metadata": {
        "id": "jhC7ThGmiC-O"
      },
      "outputs": [],
      "source": [
        "os.environ[\"OPENAI_API_KEY\"] = open_ai_key\n",
        "openai.api_key = os.environ[\"OPENAI_API_KEY\"]"
      ]
    },
    {
      "cell_type": "code",
      "execution_count": 6,
      "metadata": {
        "id": "ziChmNLDq_M6"
      },
      "outputs": [],
      "source": [
        "import requests\n",
        "\n",
        "def search_with_google_api(query):\n",
        "    url = f\"https://www.googleapis.com/customsearch/v1?q={query}&key={google_api}&cx={search_engine_id}\"\n",
        "\n",
        "    response = requests.get(url)\n",
        "    if response.status_code == 200:\n",
        "        return response.json().get(\"items\", [])\n",
        "    else:\n",
        "        print(f\"Error: {response.status_code}, {response.text}\")\n",
        "        return []\n"
      ]
    },
    {
      "cell_type": "code",
      "execution_count": 18,
      "metadata": {
        "colab": {
          "base_uri": "https://localhost:8080/"
        },
        "id": "Ax996kTVrog0",
        "outputId": "bbf11e1c-97a7-4540-fea7-704fcd6ceb22"
      },
      "outputs": [
        {
          "name": "stdout",
          "output_type": "stream",
          "text": [
            "Processing query: US electric vehicle sector sentiment analysis\n",
            "Fetching search results, page 1...\n",
            "Saved: dataset/doc_1.txt\n",
            "Error: Unable to fetch content from https://www.spglobal.com/mobility/en/research-analysis/us-ev-sales-grew-nearly-52-in-2023.html (Status Code: 403)\n",
            "Skipped: https://www.spglobal.com/mobility/en/research-analysis/us-ev-sales-grew-nearly-52-in-2023.html (No valid content)\n",
            "Saved: dataset/doc_2.txt\n",
            "Error: Unable to fetch content from https://www.weforum.org/stories/2024/06/china-electric-vehicle-advantage/ (Status Code: 403)\n",
            "Skipped: https://www.weforum.org/stories/2024/06/china-electric-vehicle-advantage/ (No valid content)\n",
            "Saved: dataset/doc_3.txt\n",
            "Error: Unable to fetch content from https://www.spglobal.com/mobility/en/research-analysis/2024-ev-forecast-the-supply-chain-charging-network-and-battery.html (Status Code: 403)\n",
            "Skipped: https://www.spglobal.com/mobility/en/research-analysis/2024-ev-forecast-the-supply-chain-charging-network-and-battery.html (No valid content)\n",
            "Saved: dataset/doc_4.txt\n",
            "Saved: dataset/doc_5.txt\n",
            "Saved: dataset/doc_6.txt\n",
            "Saved: dataset/doc_7.txt\n",
            "Fetching search results, page 2...\n",
            "Skipped: https://dew.sc.gov/sites/dew/files/Documents/Final_Evaluation%20and%20Analysis%20of%20the%20Electric%20Vehicle%20Workforce%20in%20South%20Carolina%20Report.pdf (No valid content)\n",
            "Error: Unable to fetch content from https://www.anl.gov/esia/light-duty-electric-drive-vehicles-monthly-sales-updates (Status Code: 403)\n",
            "Skipped: https://www.anl.gov/esia/light-duty-electric-drive-vehicles-monthly-sales-updates (No valid content)\n",
            "Error fetching content from https://www.transportation.gov/rural/ev/toolkit/ev-benefits-and-challenges/community-benefits: HTTPSConnectionPool(host='www.transportation.gov', port=443): Read timed out. (read timeout=10)\n",
            "Skipped: https://www.transportation.gov/rural/ev/toolkit/ev-benefits-and-challenges/community-benefits (No valid content)\n",
            "Saved: dataset/doc_8.txt\n",
            "Saved: dataset/doc_9.txt\n",
            "Saved: dataset/doc_10.txt\n",
            "Processing query: Financial performance of US electric vehicle companies\n",
            "Fetching search results, page 1...\n",
            "Error fetching content from https://ir.lucidmotors.com/news-releases/news-release-details/lucid-announces-fourth-quarter-and-full-year-2023-financial: HTTPSConnectionPool(host='ir.lucidmotors.com', port=443): Read timed out. (read timeout=10)\n",
            "Skipped: https://ir.lucidmotors.com/news-releases/news-release-details/lucid-announces-fourth-quarter-and-full-year-2023-financial (No valid content)\n",
            "Saved: dataset/doc_11.txt\n",
            "Saved: dataset/doc_12.txt\n",
            "Saved: dataset/doc_13.txt\n",
            "Saved: dataset/doc_14.txt\n",
            "Error fetching content from https://corporate.ford.com/content/dam/corporate/us/en-us/documents/reports/2023-integrated-sustainability-and-financial-report.pdf: HTTPSConnectionPool(host='corporate.ford.com', port=443): Read timed out. (read timeout=10)\n",
            "Skipped: https://corporate.ford.com/content/dam/corporate/us/en-us/documents/reports/2023-integrated-sustainability-and-financial-report.pdf (No valid content)\n",
            "Saved: dataset/doc_15.txt\n",
            "Saved: dataset/doc_16.txt\n",
            "Saved: dataset/doc_17.txt\n",
            "Saved: dataset/doc_18.txt\n",
            "Fetching search results, page 2...\n",
            "Saved: dataset/doc_19.txt\n",
            "Saved: dataset/doc_20.txt\n",
            "Processing query: Investor sentiment towards electric vehicle sector in the US\n",
            "Fetching search results, page 1...\n",
            "Saved: dataset/doc_21.txt\n",
            "Saved: dataset/doc_22.txt\n",
            "Saved: dataset/doc_23.txt\n",
            "Skipped: https://www.nrel.gov/docs/fy23osti/85654.pdf (No valid content)\n",
            "Error fetching content from https://www.transportation.gov/briefing-room/biden-harris-administration-announces-grants-upgrade-almost-4500-public-electric: HTTPSConnectionPool(host='www.transportation.gov', port=443): Read timed out. (read timeout=10)\n",
            "Skipped: https://www.transportation.gov/briefing-room/biden-harris-administration-announces-grants-upgrade-almost-4500-public-electric (No valid content)\n",
            "Saved: dataset/doc_24.txt\n",
            "Saved: dataset/doc_25.txt\n",
            "Saved: dataset/doc_26.txt\n",
            "Saved: dataset/doc_27.txt\n",
            "Saved: dataset/doc_28.txt\n",
            "Fetching search results, page 2...\n",
            "Skipped: https://www.unepfi.org/wordpress/wp-content/uploads/2024/05/Climate-Risks-in-the-Transportation-Sector.pdf (No valid content)\n",
            "Saved: dataset/doc_29.txt\n",
            "Saved: dataset/doc_30.txt\n",
            "Processing query: Trends in the US electric vehicle market sentiment\n",
            "Fetching search results, page 1...\n",
            "Saved: dataset/doc_31.txt\n",
            "Saved: dataset/doc_32.txt\n",
            "Saved: dataset/doc_33.txt\n",
            "Error: Unable to fetch content from https://www.jdpower.com/business/resources/ev-consideration-trends-down-fourth-consecutive-month-public-charging-experience (Status Code: 403)\n",
            "Skipped: https://www.jdpower.com/business/resources/ev-consideration-trends-down-fourth-consecutive-month-public-charging-experience (No valid content)\n",
            "Saved: dataset/doc_34.txt\n",
            "Saved: dataset/doc_35.txt\n",
            "Saved: dataset/doc_36.txt\n",
            "Saved: dataset/doc_37.txt\n",
            "Skipped: https://theicct.org/wp-content/uploads/2021/06/US_charging_Gap_20190124.pdf (No valid content)\n",
            "Saved: dataset/doc_38.txt\n",
            "Fetching search results, page 2...\n",
            "Saved: dataset/doc_39.txt\n",
            "Saved: dataset/doc_40.txt\n",
            "Processing query: Region-specific sentiment analysis of US electric vehicle industry\n",
            "Fetching search results, page 1...\n",
            "Saved: dataset/doc_41.txt\n",
            "Skipped: https://www.clevelandfed.org/-/media/project/clevelandfedtenant/clevelandfedsite/events/conference-on-real-time-data/zhoudan-xie-paper.pdf (No valid content)\n",
            "Error: Unable to fetch content from https://journals.sagepub.com/doi/abs/10.1177/21582440241295945 (Status Code: 403)\n",
            "Skipped: https://journals.sagepub.com/doi/abs/10.1177/21582440241295945 (No valid content)\n",
            "Error fetching content from https://corporate.ford.com/content/dam/corporate/us/en-us/documents/reports/2023-integrated-sustainability-and-financial-report.pdf: HTTPSConnectionPool(host='corporate.ford.com', port=443): Read timed out. (read timeout=10)\n",
            "Skipped: https://corporate.ford.com/content/dam/corporate/us/en-us/documents/reports/2023-integrated-sustainability-and-financial-report.pdf (No valid content)\n",
            "Error: Unable to fetch content from https://www.spglobal.com/mobility/en/research-analysis/2024-ev-forecast-the-supply-chain-charging-network-and-battery.html (Status Code: 403)\n",
            "Skipped: https://www.spglobal.com/mobility/en/research-analysis/2024-ev-forecast-the-supply-chain-charging-network-and-battery.html (No valid content)\n",
            "Skipped: https://www.energy.gov/sites/default/files/2023-12/National%20Transmission%20Needs%20Study%20-%20Final_2023.12.1.pdf (No valid content)\n",
            "Saved: dataset/doc_42.txt\n",
            "Skipped: https://iea.blob.core.windows.net/assets/a9e3544b-0b12-4e15-b407-65f5c8ce1b5f/GlobalEVOutlook2024.pdf (No valid content)\n",
            "Error: Unable to fetch content from https://journals.sagepub.com/doi/full/10.1177/21582440241295945 (Status Code: 403)\n",
            "Skipped: https://journals.sagepub.com/doi/full/10.1177/21582440241295945 (No valid content)\n",
            "Error fetching content from https://www.tesla.com/ns_videos/2021-tesla-impact-report.pdf: HTTPSConnectionPool(host='www.tesla.com', port=443): Read timed out. (read timeout=10)\n",
            "Skipped: https://www.tesla.com/ns_videos/2021-tesla-impact-report.pdf (No valid content)\n",
            "Fetching search results, page 2...\n",
            "Saved: dataset/doc_43.txt\n",
            "Saved: dataset/doc_44.txt\n",
            "Error: Unable to fetch content from https://www.weforum.org/stories/2024/06/china-electric-vehicle-advantage/ (Status Code: 403)\n",
            "Skipped: https://www.weforum.org/stories/2024/06/china-electric-vehicle-advantage/ (No valid content)\n",
            "Skipped: https://aiindex.stanford.edu/wp-content/uploads/2023/04/HAI_AI-Index-Report_2023.pdf (No valid content)\n",
            "Saved: dataset/doc_45.txt\n",
            "Saved: dataset/doc_46.txt\n",
            "Saved: dataset/doc_47.txt\n",
            "Saved: dataset/doc_48.txt\n",
            "Error: Unable to fetch content from https://www.bcg.com/publications/2023/what-ev-drivers-expect-from-charging-stations-for-electric-cars (Status Code: 403)\n",
            "Skipped: https://www.bcg.com/publications/2023/what-ev-drivers-expect-from-charging-stations-for-electric-cars (No valid content)\n",
            "Saved: dataset/doc_49.txt\n",
            "Fetching search results, page 3...\n",
            "Skipped: https://commission.europa.eu/document/download/97e481fd-2dc3-412d-be4c-f152a8232961_en?filename=The%20future%20of%20European%20competitiveness%20_%20A%20competitiveness%20strategy%20for%20Europe.pdf (No valid content)\n",
            "Error: Unable to fetch content from https://www.eeoc.gov/special-report/diversity-high-tech (Status Code: 404)\n",
            "Skipped: https://www.eeoc.gov/special-report/diversity-high-tech (No valid content)\n",
            "Error fetching content from https://www.bmwgroup.com/en/report/2023/downloads/BMW-Group-Report-2023-en.pdf: HTTPSConnectionPool(host='www.bmwgroup.com', port=443): Read timed out. (read timeout=10)\n",
            "Skipped: https://www.bmwgroup.com/en/report/2023/downloads/BMW-Group-Report-2023-en.pdf (No valid content)\n",
            "Saved: dataset/doc_50.txt\n",
            "Processing query: Electric vehicle financial sentiment comparison between US and global market\n",
            "Fetching search results, page 1...\n",
            "Error: Unable to fetch content from https://www.spglobal.com/marketintelligence/en/mi/research-analysis/daily-global-market-summary-october-30-2020.html (Status Code: 403)\n",
            "Skipped: https://www.spglobal.com/marketintelligence/en/mi/research-analysis/daily-global-market-summary-october-30-2020.html (No valid content)\n",
            "Saved: dataset/doc_51.txt\n",
            "Skipped: https://itspubs.ucdavis.edu/download_pdf.php?id=2802 (No valid content)\n",
            "Saved: dataset/doc_52.txt\n",
            "Saved: dataset/doc_53.txt\n",
            "Error: Unable to fetch content from https://crsreports.congress.gov/product/pdf/R/R46270/25 (Status Code: 403)\n",
            "Skipped: https://crsreports.congress.gov/product/pdf/R/R46270/25 (No valid content)\n",
            "Saved: dataset/doc_54.txt\n",
            "Saved: dataset/doc_55.txt\n",
            "Error: Unable to fetch content from https://www.congress.gov/event/117th-congress/senate-event/LC72862/text (Status Code: 403)\n",
            "Skipped: https://www.congress.gov/event/117th-congress/senate-event/LC72862/text (No valid content)\n",
            "Saved: dataset/doc_56.txt\n",
            "Fetching search results, page 2...\n",
            "Saved: dataset/doc_57.txt\n",
            "Saved: dataset/doc_58.txt\n",
            "Skipped: https://www.franklintempleton.com/articles/2024/equity/emerging-markets-insights-november-2024 (No valid content)\n",
            "Skipped: https://www.simplify.us/sites/default/files/etf/2024-12/Simplify-TESL-Summary%20Prospectus-120524.pdf (No valid content)\n",
            "Skipped: https://www.ief.org/_resources/files/events/12th-iea-ief-opec-symposium-on-energy-outlooks/iea-ief-opec-report.pdf?v=1 (No valid content)\n",
            "Saved: dataset/doc_59.txt\n",
            "Saved: dataset/doc_60.txt\n",
            "Processing query: Reviews and sentiment analysis on top US electric vehicle stocks\n",
            "Fetching search results, page 1...\n",
            "Saved: dataset/doc_61.txt\n",
            "Error fetching content from https://www.usnews.com/: HTTPSConnectionPool(host='www.usnews.com', port=443): Read timed out. (read timeout=10)\n",
            "Skipped: https://www.usnews.com/ (No valid content)\n",
            "Error: Unable to fetch content from https://www.nytimes.com/2023/12/21/movies/all-of-us-strangers-review.html (Status Code: 403)\n",
            "Skipped: https://www.nytimes.com/2023/12/21/movies/all-of-us-strangers-review.html (No valid content)\n",
            "Skipped: https://haas.berkeley.edu/wp-content/uploads/WP342.pdf (No valid content)\n",
            "Saved: dataset/doc_62.txt\n",
            "Saved: dataset/doc_63.txt\n",
            "Saved: dataset/doc_64.txt\n",
            "Saved: dataset/doc_65.txt\n",
            "Saved: dataset/doc_66.txt\n",
            "Saved: dataset/doc_67.txt\n",
            "Fetching search results, page 2...\n",
            "Error: Unable to fetch content from https://www.caranddriver.com/ (Status Code: 403)\n",
            "Skipped: https://www.caranddriver.com/ (No valid content)\n",
            "Saved: dataset/doc_68.txt\n",
            "Saved: dataset/doc_69.txt\n",
            "Skipped: https://calstart.org/wp-content/uploads/2024/01/ZIO-ZET-2024_010924_Final.pdf (No valid content)\n",
            "Error: Unable to fetch content from https://crsreports.congress.gov/product/pdf/IF/IF11284 (Status Code: 403)\n",
            "Skipped: https://crsreports.congress.gov/product/pdf/IF/IF11284 (No valid content)\n",
            "Skipped: https://iea.blob.core.windows.net/assets/a9e3544b-0b12-4e15-b407-65f5c8ce1b5f/GlobalEVOutlook2024.pdf (No valid content)\n",
            "Saved: dataset/doc_70.txt\n",
            "Finished processing all queries. Total files saved: 70\n"
          ]
        }
      ],
      "source": [
        "import os\n",
        "import requests\n",
        "from bs4 import BeautifulSoup\n",
        "import openai\n",
        "\n",
        "\n",
        "def generate_search_queries(user_input):\n",
        "    \"\"\"\n",
        "    Generates a list of 5-7 detailed and relevant search queries for financial sentiment analysis\n",
        "    based on the user's input, such as a target sector, field, or region.\n",
        "    \"\"\"\n",
        "    prompt = f\"\"\"\n",
        "    You are a financial analyst and search query expert. Based on the following user input, generate a list of 5-7 search queries\n",
        "    for financial sentiment analysis based on user input. Ensure the queries cover diverse aspects of the topic, including sector-specific trends,\n",
        "    regional financial overviews, and broader financial landscapes. The queries should focus on extracting data relevant to sentiment\n",
        "    and performance analysis.\n",
        "\n",
        "    User Input: {user_input}\n",
        "\n",
        "    Strictly output the queries as a python list of strings. Do not add any additional comments.\n",
        "    \"\"\"\n",
        "\n",
        "    response = openai.chat.completions.create(\n",
        "        model=\"gpt-4\",\n",
        "        messages=[\n",
        "            {\"role\": \"system\", \"content\": \"You are an expert in generating search queries for financial sentiment analysis.\"},\n",
        "            {\"role\": \"user\", \"content\": prompt}\n",
        "        ],\n",
        "        max_tokens=200\n",
        "    )\n",
        "\n",
        "    # Extract and clean up the list of queries\n",
        "    queries =  response.choices[0].message.content.strip()\n",
        "    return eval(queries)\n",
        "\n",
        "def fetch_full_content(url):\n",
        "    \"\"\"\n",
        "    Fetches the full content of a webpage given its URL.\n",
        "    \"\"\"\n",
        "    headers = {\n",
        "        \"User-Agent\": (\n",
        "            \"Mozilla/5.0 (Windows NT 10.0; Win64; x64) \"\n",
        "            \"AppleWebKit/537.36 (KHTML, like Gecko) Chrome/85.0.4183.121 Safari/537.36\"\n",
        "        )\n",
        "    }\n",
        "    try:\n",
        "        response = requests.get(url, headers=headers, timeout=10)\n",
        "        if response.status_code == 200:\n",
        "            soup = BeautifulSoup(response.text, \"html.parser\")\n",
        "            paragraphs = soup.find_all(\"p\")\n",
        "            full_text = \"\\n\".join([p.get_text() for p in paragraphs])\n",
        "            return full_text.strip() if full_text else None\n",
        "        else:\n",
        "            print(f\"Error: Unable to fetch content from {url} (Status Code: {response.status_code})\")\n",
        "            return None\n",
        "    except Exception as e:\n",
        "        print(f\"Error fetching content from {url}: {e}\")\n",
        "        return None\n",
        "\n",
        "def create_dataset_from_queries(queries, directory=\"dataset\"):\n",
        "    \"\"\"\n",
        "    Process search queries and save results as text files in the same directory.\n",
        "    \"\"\"\n",
        "    if not os.path.exists(directory):\n",
        "        os.makedirs(directory)\n",
        "\n",
        "    file_count = 1  # To ensure unique filenames across all queries\n",
        "\n",
        "    for query in queries:\n",
        "        print(f\"Processing query: {query}\")\n",
        "        valid_count = 0\n",
        "        page_number = 1\n",
        "\n",
        "        while valid_count < 10:\n",
        "            print(f\"Fetching search results, page {page_number}...\")\n",
        "            results = search_with_google_api(query + f\"&start={page_number * 10}\")\n",
        "\n",
        "            if not results:\n",
        "                print(\"No more results found. Try refining the query.\")\n",
        "                break\n",
        "\n",
        "            for result in results:\n",
        "                if valid_count >= 10:\n",
        "                    break  # Stop when 10 valid documents are saved\n",
        "\n",
        "                title = result[\"title\"]\n",
        "                link = result[\"link\"]\n",
        "                snippet = result.get(\"snippet\", \"No snippet\")\n",
        "\n",
        "                # Fetch full content of the link\n",
        "                full_content = fetch_full_content(link)\n",
        "                if full_content:  # Save only if content is valid\n",
        "                    filename = f\"{directory}/doc_{file_count}.txt\"\n",
        "                    with open(filename, \"w\", encoding=\"utf-8\") as f:\n",
        "                        f.write(f\"Query: {query}\\n\")\n",
        "                        f.write(f\"Title: {title}\\n\")\n",
        "                        f.write(f\"Link: {link}\\n\")\n",
        "                        f.write(f\"Snippet: {snippet}\\n\\n\")\n",
        "                        f.write(f\"Full Content:\\n{full_content}\")\n",
        "                    print(f\"Saved: {filename}\")\n",
        "                    valid_count += 1\n",
        "                    file_count += 1\n",
        "                else:\n",
        "                    print(f\"Skipped: {link} (No valid content)\")\n",
        "\n",
        "            page_number += 1  # Move to the next page of results\n",
        "\n",
        "    print(f\"Finished processing all queries. Total files saved: {file_count - 1}\")\n",
        "\n",
        "\n",
        "user_input = \"Financial sentiment analysis for the electric vehicle sector in the US\"\n",
        "queries = generate_search_queries(user_input)\n",
        "queries\n",
        "create_dataset_from_queries(queries)\n"
      ]
    },
    {
      "cell_type": "markdown",
      "metadata": {
        "id": "Dl5Uido90Yu4"
      },
      "source": [
        "The code `documents = SimpleDirectoryReader(\"dataset\").load_data()` uses a utility class, typically from libraries like llama-index (formerly gpt-index), to read and preprocess all documents stored in a specified directory. Here, the \"dataset\" directory is scanned for files, usually in formats like .txt. The SimpleDirectoryReader handles tasks such as opening the files, reading their content, and managing encodings, while ignoring unsupported or corrupt files."
      ]
    },
    {
      "cell_type": "code",
      "execution_count": 20,
      "metadata": {
        "id": "onGw8Qvv2N2h"
      },
      "outputs": [],
      "source": [
        "documents = SimpleDirectoryReader(\"dataset\").load_data()"
      ]
    },
    {
      "cell_type": "markdown",
      "metadata": {
        "id": "Be3ET9Ur0iYk"
      },
      "source": [
        "Initiate graph store using Neo4j Credentials. Steps are given in the beginning of the notebook."
      ]
    },
    {
      "cell_type": "code",
      "execution_count": 21,
      "metadata": {
        "id": "ROiqfjHP3fZE"
      },
      "outputs": [],
      "source": [
        "graph_store = Neo4jPropertyGraphStore(\n",
        "    username=\"neo4j\",\n",
        "    password=\"\",\n",
        "    url=\"neo4j+s://.databases.neo4j.io\",\n",
        ")"
      ]
    },
    {
      "cell_type": "code",
      "execution_count": 22,
      "metadata": {
        "colab": {
          "base_uri": "https://localhost:8080/",
          "height": 103,
          "referenced_widgets": [
            "2106089e75b94977940f480d564b4a59",
            "dfcda6848214480a8ec05d747c99990e",
            "351d133774df49e88de0f173f620bf04",
            "0e64fd088c684b43b5768de2aa0df588",
            "bb01aa0f84dd45e3b181b0fe81a15fb9",
            "625681550aed4075a554acc4cdc3284e",
            "b1de0b85432f430285672e58da1cd1f9",
            "007b1ab83b9449a982ae5d9910f34640",
            "e43313186f344f36997b5ee209bcbf72",
            "1c42a31e2cc6466c9e99649dfd252275",
            "e96a5b934607447ebf53d60e9cc38096"
          ]
        },
        "id": "ommuFZHR53kk",
        "outputId": "3b1e9fab-81dd-4269-dedb-2b4b400fb795"
      },
      "outputs": [
        {
          "data": {
            "application/vnd.jupyter.widget-view+json": {
              "model_id": "2106089e75b94977940f480d564b4a59",
              "version_major": 2,
              "version_minor": 0
            },
            "text/plain": [
              "Parsing nodes:   0%|          | 0/70 [00:00<?, ?it/s]"
            ]
          },
          "metadata": {},
          "output_type": "display_data"
        },
        {
          "name": "stderr",
          "output_type": "stream",
          "text": [
            "Extracting paths from text with schema: 100%|██████████| 2589/2589 [58:50<00:00,  1.36s/it]\n",
            "Generating embeddings: 100%|██████████| 26/26 [00:03<00:00,  7.27it/s]\n",
            "Generating embeddings: 100%|██████████| 135/135 [00:07<00:00, 17.22it/s]\n"
          ]
        }
      ],
      "source": [
        "# Create the index\n",
        "index = PropertyGraphIndex.from_documents(\n",
        "    documents,\n",
        "    embed_model=OpenAIEmbedding(model_name=\"text-embedding-3-small\"),\n",
        "    kg_extractors=[\n",
        "        SchemaLLMPathExtractor(\n",
        "            llm=OpenAI(model=\"gpt-3.5-turbo\", temperature=0.0)\n",
        "        )\n",
        "    ],\n",
        "    property_graph_store=graph_store,\n",
        "    show_progress=True,\n",
        "    use_async=True\n",
        ")\n"
      ]
    },
    {
      "cell_type": "code",
      "execution_count": 32,
      "metadata": {
        "id": "RRzOpEpXLhFS"
      },
      "outputs": [],
      "source": [
        "\n",
        "# save and load using locally stored graphs if you dont want to implement neo4j, you can directly use locally stored index in storage folder\n",
        "index.storage_context.persist(persist_dir=\"./storage\")\n",
        "\n",
        "from llama_index.core import StorageContext, load_index_from_storage\n",
        "\n",
        "index = load_index_from_storage(\n",
        "    StorageContext.from_defaults(persist_dir=\"./storage\")\n",
        ")\n"
      ]
    },
    {
      "cell_type": "markdown",
      "metadata": {
        "id": "H_iWTvmO9C22"
      },
      "source": [
        "## **Building GraphRAG Pipeline**\n",
        "\n"
      ]
    },
    {
      "cell_type": "code",
      "execution_count": 8,
      "metadata": {
        "id": "bhzXLtbGMFMM"
      },
      "outputs": [],
      "source": [
        "# loading from existing graph store (and optional vector store)\n",
        "# load from existing graph/vector store\n",
        "index = PropertyGraphIndex.from_existing(\n",
        "    property_graph_store=graph_store\n",
        ")"
      ]
    },
    {
      "cell_type": "code",
      "execution_count": 25,
      "metadata": {
        "colab": {
          "base_uri": "https://localhost:8080/"
        },
        "id": "w8bw5O-d7h43",
        "outputId": "3cf5750b-81a6-434b-c340-7d6b5e1182ec"
      },
      "outputs": [
        {
          "name": "stdout",
          "output_type": "stream",
          "text": [
            "Greeven -> WORKED_ON -> The Economist\n",
            "Wei -> WORKED_ON -> The Economist\n",
            "Xue -> WORKED_ON -> The Economist\n",
            "He -> WORKED_ON -> The Economist\n",
            "James Hamilton -> WORKED_ON -> Oil and the Macroeconomy since World War II\n",
            "investor sentiment -> LOCATED_IN -> US\n",
            "CFO -> WORKED_ON -> gross profit\n",
            "CFO -> WORKED_ON -> ASP\n",
            "CFO -> WORKED_ON -> manufacturing credits\n",
            "CFO -> WORKED_ON -> battery costs\n",
            "CFO -> WORKED_ON -> IRA incentives\n"
          ]
        }
      ],
      "source": [
        "# Define retriever\n",
        "retriever = index.as_retriever(\n",
        "    include_text=False,  # Default is true\n",
        ")\n",
        "results = retriever.retrieve(\"What is the summary of the finanacial texts?\")\n",
        "for record in results:\n",
        "    print(record.text)"
      ]
    },
    {
      "cell_type": "code",
      "execution_count": 28,
      "metadata": {
        "colab": {
          "base_uri": "https://localhost:8080/"
        },
        "id": "1bX__3gz0L3P",
        "outputId": "c304765a-1960-40a2-b3fa-bd24d0d5ee9e"
      },
      "outputs": [
        {
          "name": "stdout",
          "output_type": "stream",
          "text": [
            "Investing in the EV sector involves understanding key financial trends. The sector has seen significant growth, with sales of battery electric and plug-in hybrid electric vehicles surpassing two million vehicles in 2019. Despite disruptions like the COVID-19 pandemic, the market continues to expand. Market segmentation is crucial for identifying opportunities and managing risks. Government interventions, consumer attitudes, and OEM investments play a significant role in shaping the sector. The EV market is expected to grow substantially by 2030, presenting opportunities for traditional and new-entrant OEMs, finance companies, and dealerships. Understanding global sales trends, market shares, and production projections, especially in regions like China, can provide valuable insights for potential investors in the EV sector.\n"
          ]
        }
      ],
      "source": [
        "query_engine = index.as_query_engine(include_text=True)\n",
        "response = query_engine.query(\"How to invest in the EV sector? Summarize the most important financial trends in the EV Sector.\")\n",
        "print(response)\n"
      ]
    },
    {
      "cell_type": "code",
      "execution_count": 30,
      "metadata": {
        "colab": {
          "base_uri": "https://localhost:8080/"
        },
        "id": "a-qLVmNlEb3V",
        "outputId": "ae06e53d-d729-485a-9d39-b7a03088d833"
      },
      "outputs": [
        {
          "name": "stdout",
          "output_type": "stream",
          "text": [
            "BYD and other Chinese EV car companies are leading the electric vehicle sector.\n"
          ]
        }
      ],
      "source": [
        "query_engine = index.as_query_engine(include_text=True)\n",
        "response = query_engine.query(\"Which companies are doing the best in EV sector?\")\n",
        "print(response)\n"
      ]
    },
    {
      "cell_type": "code",
      "execution_count": 31,
      "metadata": {
        "colab": {
          "base_uri": "https://localhost:8080/"
        },
        "id": "WCanDLIJEk7b",
        "outputId": "b76b8667-0313-4c38-e316-c08d2db54070"
      },
      "outputs": [
        {
          "name": "stdout",
          "output_type": "stream",
          "text": [
            "Tesla is located in various countries such as the United States, China, and India. The company experienced a decline in sales in 2024, marking its first annual sales drop in a decade. Despite this decline, analysts remain confident in Tesla's ability to accelerate delivery growth in the future. Tesla's financials improved in Q2 2024, with revenue increasing by 20% year-over-year driven by a rise in deliveries. The company delivered a significant number of vehicles during the quarter, although overall demand for electric vehicles in the U.S. and elsewhere slowed. Tesla's automotive sector revenue increased over 14% year-over-year in Q2 2024, with revenue from regulatory credits doubling from the previous year. Additionally, income from other ventures like energy storage deployment and charging networks rose significantly.\n"
          ]
        }
      ],
      "source": [
        "query_engine = index.as_query_engine(include_text=True)\n",
        "response = query_engine.query(\"How is Tesla doing in EV sector?\")\n",
        "print(response)"
      ]
    },
    {
      "cell_type": "code",
      "execution_count": 14,
      "metadata": {
        "colab": {
          "base_uri": "https://localhost:8080/"
        },
        "id": "Y-23QRP_-3FP",
        "outputId": "f5630e3e-a7dd-46b8-e645-0776440769f5"
      },
      "outputs": [
        {
          "name": "stdout",
          "output_type": "stream",
          "text": [
            "Processing query: How to invest in the EV sector? Summarize the most important financial trends in the EV Sector.\n",
            "Processing query: What are the recent financial sentiments about renewable energy investments?\n"
          ]
        },
        {
          "name": "stderr",
          "output_type": "stream",
          "text": [
            "/usr/local/lib/python3.11/dist-packages/neo4j/_codec/hydration/v1/hydration_handler.py:61: RuntimeWarning: coroutine 'PGRetriever._aretrieve' was never awaited\n",
            "  b\"R\": self.hydrate_relationship,\n",
            "RuntimeWarning: Enable tracemalloc to get the object allocation traceback\n"
          ]
        },
        {
          "name": "stdout",
          "output_type": "stream",
          "text": [
            "Processing query: Summarize the financial outlook for the technology sector in 2024.\n",
            "Processing query: What are the key financial risks in the automotive industry this year?\n",
            "Processing query: Provide insights on the financial performance of AI startups in the US.\n",
            "Query: How to invest in the EV sector? Summarize the most important financial trends in the EV Sector.\n",
            "Generated Report:\n",
            "Report:\n",
            "\n",
            "Title: Financial Trends and Sentiment Analysis in the EV Sector\n",
            "\n",
            "1. High-Level Summary:\n",
            "The electric vehicle (EV) sector's financial landscape is experiencing an upward trend due to increasing revenues ensuing from the higher sales and growing popularity of EVs. With steady growth in regulatory credits and the expansion of manufacturers into other service areas such as energy storage deployment and charging networks, the sector is witnessing dynamic revenue growth and improved financial stability.\n",
            "\n",
            "2. Sentiment Analysis:\n",
            "\n",
            "   a) Positive Sentiment: There is a strong positive sentiment around the increasing revenue trend in the EV sector. Additionally, diversification into other business areas is being seen as a promising approach to sustain growth and stability.\n",
            "\n",
            "   b) Neutral Sentiment: Regulatory credits are a neutral factor. While these credits play a significant part in boosting overall revenues for EV manufacturers, their long-term sustainability is still subjective.\n",
            "\n",
            "   c) Negative Sentiment: The analysis did not detect fundamental negative sentiments surrounding the mentioned financial trends in the EV sector.\n",
            "\n",
            "3. Factors Driving Sentiments:\n",
            "\n",
            "   a) Positive: Increasing sales, improved delivery mechanisms, and innovative diversifications are the key drivers of the positive sentiment targeting revenue trends.\n",
            "   \n",
            "   b) Neutral: The neutrality towards regulatory credits is mainly due to the fact that these are subject to policy changes that can be unpredictable.\n",
            "   \n",
            "   c) Negative: The absence of negative sentiment signals confidence in the sector's financial growth and its potential to attract investment.\n",
            "\n",
            "4. Insights for Potential Investors:\n",
            "\n",
            "Current analysis indicates a largely positive sentiment towards the financial trends in the EV sector. Investors looking to venture into the EV sector could benefit from the increasing revenue trend and the sector's growing financial stability. However, they should also account for regulatory uncertainties that could impact revenues from regulatory credits. Strategies should consider a careful diversification into ancillary services like energy storage deployment and charging networks, which seem to promise growth and stability. \n",
            "\n",
            "Overall, the EV sector offers significant potential returns, albeit high complexities and fluctuating government policies. Therefore, a guided investment approach, considering both hopeful prospects and potential risks, is recommended.\n",
            "--------------------------------------------------------------------------------\n",
            "Query: What are the recent financial sentiments about renewable energy investments?\n",
            "Generated Report:\n",
            "Report:\n",
            "\n",
            "Summary:\n",
            "The financial sentiment surrounding renewable energy investments, specifically in battery manufacturing and electric vehicles, is highly positive. A surge in global investments, especially by Chinese companies in Europe and the United States, signifies this sector's growing market attractiveness and stability. \n",
            "\n",
            "Sentiments:\n",
            "\n",
            "Positive Sentiments:\n",
            "The upsurge in international investments in renewable energy technology, mainly battery manufacturing and electric vehicles, illustrates the positive market sentiment. This indicates market confidence in the sector, further supported by strategic focus on vertical integration, securing critical minerals ensuring long-term stability and success.\n",
            "\n",
            "Neutral Sentiments:\n",
            "There is a sense of neutrality due to the reliance on policymakers crafting incentives to propel this burgeoning industry and foster competition and innovation. Policymakers' actions could significantly sway the market sentiment in either direction.\n",
            "\n",
            "Negative Sentiments:\n",
            "Currently, there appear to be no significant negative sentiments associated with renewable energy investments. However, the sector's success relies heavily on policy incentives, regulatory frameworks, and technological advancements. Any instability in these areas could potentially generate negative sentiments.\n",
            "\n",
            "Driving Factors:\n",
            "Chinese companies' international expansion and strategic approaches to vertical integration and procurement of critical minerals illuminate the potential growth of the renewable energy sector. Furthermore, a broader societal and governmental push towards green and renewable energy sources continually fuels the sector's positive sentiment.\n",
            "\n",
            "Suggestions:\n",
            "Investors should consider this growing trend reflecting the robust and promising potential of renewable energy investments. Staying abreast of policy developments in key markets is also crucial due to their potential impact on market sentiment. Furthermore, investments should be diversified across various sub-sectors (e.g., battery manufacturing, electric vehicles) and geographies to hedge potential risks. Finally, investors can also explore opportunities in securing critical minerals, identified as a vital element in the renewable energy supply chain.\n",
            "\n",
            "Overall, the renewable energy sector is presenting expansive opportunities, offering an appealing option for forward-thinking and sustainability-minded investors.\n",
            "--------------------------------------------------------------------------------\n",
            "Query: Summarize the financial outlook for the technology sector in 2024.\n",
            "Generated Report:\n",
            "Summary Report:\n",
            "\n",
            "The technology sector financial outlook for 2024 appears significantly positive, driven by the performance of major companies like Tesla. The success of Tesla signifies the sector's general growth orientation. \n",
            "\n",
            "Positive sentiments are primarily a result of Tesla's substantial revenue increase of 20% year-over-year in Q2 2024, escalating to $25 billion. This can be attributed to a substantial increase in Tesla's deliveries by 15% and growth in their automotive sector revenue by 14% year-over-year to almost $20 billion. Tesla's gross profit in the quarter was $4.5 billion, marking a 24% year-over-year rise. Beyond automotive, the hefty 54% year-over-year revenue growth in other ventures, including energy storage, charging networks, and additional services, also drives confidence. \n",
            "\n",
            "Negative and neutral sentiments were noticeably absent from the provided context.\n",
            "\n",
            "Driving factors to these sentiments include an increase in demand for electric vehicles and related technologies, regulatory credits, and Tesla's diversification into energy storage and charging networks.\n",
            "\n",
            "Based on these insights, potential investors or stakeholders are recommended to consider a profound investment, mainly in companies that focus on electric vehicles and related technologies. This sector benefits from the increasing adoption of environmentally friendly technologies and regulatory credits, indicating growth sustainability. Meanwhile, proactively exploring opportunities in sub-sectors such as energy storage and charging networks may offer additional potential benefits due to the rise in revenue observed from Tesla's involvement in these areas. Overall, the technology sector in 2024 exudes a financially favourable aura.\n",
            "--------------------------------------------------------------------------------\n",
            "Query: What are the key financial risks in the automotive industry this year?\n",
            "Generated Report:\n",
            "Summary Report:\n",
            "\n",
            "1. High-Level Summary:\n",
            "\n",
            "The automotive industry faces crucial financial risks fundamentally linked to potential modifications or terminations in state incentives, particularly the Inflation Reduction Act tax credit. Such adjustments could have a tangible impact on electric vehicle sales and respective pricing strategies. Further, variations in regulatory credits, production expenses, and the average selling prices (ASP) of vehicles are also potential sources of financial risk on the performance of automotive companies. \n",
            "\n",
            "2. Key Sentiments Detected:\n",
            "\n",
            "Positive Sentiment: If the government incentives, such as the Inflation Reduction Act (IRA) tax credits, remain consistent or increase, it could positively affect electric vehicle (EV) sales and pricing strategies, boosting the automotive industry's performance.\n",
            "\n",
            "Negative Sentiment: Regulatory uncertainties, potential reductions in government incentives, and fluctuation in manufacturing costs and vehicle selling prices could lead to elevated financial risk, adversely affecting the viability and profitability of automotive companies. \n",
            "\n",
            "Neutral Sentiment: The constant fluctuations in regulatory credits, manufacturing costs, and average selling prices (ASP) of vehicles, while challenging, are factors that the industry has always managed to navigate and potentially even leverage for innovation.\n",
            "\n",
            "3. Factors Driving the Sentiments:\n",
            "\n",
            "The sentiments stem from the potential shifts in policy and market dynamics. Policies such as tax incentives strongly influence EV sales, while manufacturing costs and average selling prices directly affect a company's profitability. Regulatory credit fluctuations add a layer of uncertainty, influencing both business strategies and investor confidence.\n",
            "\n",
            "4. Suggestions for Investors or Stakeholders:\n",
            "\n",
            "Investors and stakeholders should closely monitor government policy changes, particularly those affecting the IRA tax credit and other automotive-specific benefits, as these can greatly impact the EV market segment. Keeping an eye on market trends in manufacturing costs and selling prices is also crucial for positioning. To mitigate potential negative effects, consider diversifying investments across different segments of the automotive industry or hedging with investments in other sectors.\n",
            "\n",
            "Overall, while there are certain risks present in the automotive industry this year, opportunities may also arise depending on government policies, technological advancements in EVs, and overall market dynamics. Hence, it is suggested to approach with a balanced and well-researched investment strategy.\n",
            "--------------------------------------------------------------------------------\n",
            "Query: Provide insights on the financial performance of AI startups in the US.\n",
            "Generated Report:\n",
            "Summary Report:\n",
            "\n",
            "1. High-Level Summary: \n",
            "\n",
            "The financial performance of AI startups in the US displays a trend of promising growth and healthy investment climate. Even though economic uncertainties persist, the domain of AI is recognized to hold substantial potential, with varying levels of growth and returns on investment. However, it should be understood that this sector is characterized by dynamism and volatility, and hence financial performance may vary across different startups.\n",
            "\n",
            "2. Detected Sentiments:\n",
            "\n",
            "Positive Sentiments: Stakeholders perceive AI technology as a cutting-edge area with high growth potential, which attracts significant amounts of venture capital and increases valuation multiples. High-profile success stories in the sector bolster this positive sentiment.\n",
            "\n",
            "Negative Sentiments: Concerns exist over the risks associated with such startups. Many AI initiatives are in nascent stages, and the risk for failure or sub-par performance is perceptible. Regulatory challenges, fundraising difficulties, and fierce competition act as potential roadblocks.\n",
            "\n",
            "Neutral Sentiments: Many investors hold a neutral view, where they acknowledge the potential upside of the AI industry but remain cautious due to technological complexity, implementation costs, and uncertain return on investment.\n",
            "\n",
            "3. Driving Factors:\n",
            "\n",
            "The positive sentiment is driven by the transformative potential of AI and the success of certain startups, attracting substantial venture capital funding. The negative sentiment is induced by inherent risk factors such as high failure rates, complex technology, regulatory policies, and financial sustainability. The neutral sentiment stems from the industry's nascent stage, need for significant investment, and uncertainty of concrete returns.\n",
            "\n",
            "4. Suggestions:\n",
            "\n",
            "Potential investors: Gauge the company's technology, team, and business model before investing. Diversify investments across various AI startups to mitigate risk. Keep abreast with technological advancements and regulatory changes.\n",
            "\n",
            "Existing stakeholders: Monitor company-specific updates and broader AI trends. Be prepared for volatility and invest for the long-term. Pinpoint operational efficiency and financial sustainability as crucial factors to justify investments.\n",
            "\n",
            "Overall, despite the volatility, the financial performance of AI startups signals potential high-reward opportunities, mainly if investors adopt a diversified, long-term perspective and keep up-to-date with relevant trends and changes.\n",
            "--------------------------------------------------------------------------------\n"
          ]
        }
      ],
      "source": [
        "from typing import List, Dict\n",
        "\n",
        "def generate_summary_report(context: str, query: str) -> str:\n",
        "    \"\"\"\n",
        "    Generate a detailed summary report for financial sentiment analysis.\n",
        "    Takes context and query as inputs and returns a comprehensive summary.\n",
        "    \"\"\"\n",
        "    prompt = f\"\"\"\n",
        "    You are a financial sentiment analysis assistant. Using the context provided below, generate a detailed summary report:\n",
        "\n",
        "    Context:\n",
        "    {context}\n",
        "\n",
        "    Query:\n",
        "    {query}\n",
        "\n",
        "    The report should include:\n",
        "    1. A high-level summary of the financial trends related to the query.\n",
        "    2. Key positive, negative, and neutral sentiments detected.\n",
        "    3. Reasons or factors driving the sentiments.\n",
        "    4. Suggestions or insights for potential investors or stakeholders.\n",
        "\n",
        "    Be concise but ensure that the report is actionable and insightful.\n",
        "    \"\"\"\n",
        "    response = openai.chat.completions.create(\n",
        "        model=\"gpt-4\",\n",
        "        messages=[\n",
        "            {\"role\": \"system\", \"content\": \"You are an expert in financial sentiment analysis.\"},\n",
        "            {\"role\": \"user\", \"content\": prompt}\n",
        "        ],\n",
        "        max_tokens=500\n",
        "    )\n",
        "    return response.choices[0].message.content.strip()\n",
        "\n",
        "def query_and_generate_reports(queries: List[str]) -> List[Dict[str, str]]:\n",
        "    \"\"\"\n",
        "    Query the knowledge graph for each query, aggregate context, and generate summary reports.\n",
        "    Returns a list of dictionaries containing the query, aggregated context, and generated report.\n",
        "    \"\"\"\n",
        "    results = []\n",
        "\n",
        "    for query in queries:\n",
        "        print(f\"Processing query: {query}\")\n",
        "        context = query_engine.query(query)\n",
        "\n",
        "        # Generate a summary report using the aggregated context\n",
        "        report = generate_summary_report(context, query)\n",
        "\n",
        "        results.append({\n",
        "            \"query\": query,\n",
        "            \"context\": context,\n",
        "            \"report\": report\n",
        "        })\n",
        "\n",
        "    return results\n",
        "\n",
        "def save_reports_to_file(results: List[Dict[str, str]], filename: str):\n",
        "    \"\"\"\n",
        "    Save query results and their generated reports to a file.\n",
        "    \"\"\"\n",
        "    with open(filename, \"w\", encoding=\"utf-8\") as file:\n",
        "        for result in results:\n",
        "            file.write(f\"Query:\\n{result['query']}\\n\\n\")\n",
        "            file.write(f\"Context:\\n{result['context']}\\n\\n\")\n",
        "            file.write(f\"Generated Report:\\n{result['report']}\\n\\n\")\n",
        "            file.write(\"-\" * 80 + \"\\n\\n\")\n",
        "\n",
        "\n",
        "\n",
        "# Create the query engine\n",
        "query_engine = index.as_query_engine(include_text=True)\n",
        "\n",
        "# Define a list of queries, Different kinds of queries to see the effectiveness of in EV sector\n",
        "queries = [\n",
        "    \"How to invest in the EV sector? Summarize the most important financial trends in the EV Sector.\",\n",
        "    \"What are the recent financial sentiments about renewable energy investments?\",\n",
        "    \"Summarize the financial outlook for the technology sector in 2024.\",\n",
        "    \"What are the key financial risks in the automotive industry this year?\",\n",
        "    \"Provide insights on the financial performance of AI startups in the US.\"\n",
        "]\n",
        "\n",
        "# Execute the queries and generate reports\n",
        "results = query_and_generate_reports(queries)\n",
        "\n",
        "# Save the reports to a file\n",
        "output_file = \"financial_sentiment_reports.txt\"\n",
        "save_reports_to_file(results, output_file)\n",
        "\n",
        "# Print a summary of the generated reports\n",
        "for result in results:\n",
        "    print(f\"Query: {result['query']}\")\n",
        "    print(f\"Generated Report:\\n{result['report']}\")\n",
        "    print(\"-\" * 80)\n"
      ]
    },
    {
      "cell_type": "markdown",
      "metadata": {
        "id": "JKyswGQnF9qR"
      },
      "source": [
        "### **Conclusion**\n",
        "\n",
        "This project successfully demonstrates the power of combining graph-based knowledge representation with Retrieval-Augmented Generation (RAG) to enable effective financial sentiment analysis. By leveraging cutting-edge technologies such as LlamaIndex, Neo4j, and OpenAI embeddings, the system efficiently organizes and retrieves data from unstructured sources, transforming it into actionable insights. The integration of knowledge graphs allows for a rich understanding of relationships between entities, while the use of LLMs enhances contextual accuracy in query responses."
      ]
    },
    {
      "cell_type": "code",
      "execution_count": null,
      "metadata": {
        "id": "zoFvRuLSE3oI"
      },
      "outputs": [],
      "source": []
    }
  ],
  "metadata": {
    "colab": {
      "provenance": []
    },
    "kernelspec": {
      "display_name": "Python 3",
      "name": "python3"
    },
    "language_info": {
      "name": "python"
    },
    "widgets": {
      "application/vnd.jupyter.widget-state+json": {
        "007b1ab83b9449a982ae5d9910f34640": {
          "model_module": "@jupyter-widgets/base",
          "model_module_version": "1.2.0",
          "model_name": "LayoutModel",
          "state": {
            "_model_module": "@jupyter-widgets/base",
            "_model_module_version": "1.2.0",
            "_model_name": "LayoutModel",
            "_view_count": null,
            "_view_module": "@jupyter-widgets/base",
            "_view_module_version": "1.2.0",
            "_view_name": "LayoutView",
            "align_content": null,
            "align_items": null,
            "align_self": null,
            "border": null,
            "bottom": null,
            "display": null,
            "flex": null,
            "flex_flow": null,
            "grid_area": null,
            "grid_auto_columns": null,
            "grid_auto_flow": null,
            "grid_auto_rows": null,
            "grid_column": null,
            "grid_gap": null,
            "grid_row": null,
            "grid_template_areas": null,
            "grid_template_columns": null,
            "grid_template_rows": null,
            "height": null,
            "justify_content": null,
            "justify_items": null,
            "left": null,
            "margin": null,
            "max_height": null,
            "max_width": null,
            "min_height": null,
            "min_width": null,
            "object_fit": null,
            "object_position": null,
            "order": null,
            "overflow": null,
            "overflow_x": null,
            "overflow_y": null,
            "padding": null,
            "right": null,
            "top": null,
            "visibility": null,
            "width": null
          }
        },
        "0e64fd088c684b43b5768de2aa0df588": {
          "model_module": "@jupyter-widgets/controls",
          "model_module_version": "1.5.0",
          "model_name": "HTMLModel",
          "state": {
            "_dom_classes": [],
            "_model_module": "@jupyter-widgets/controls",
            "_model_module_version": "1.5.0",
            "_model_name": "HTMLModel",
            "_view_count": null,
            "_view_module": "@jupyter-widgets/controls",
            "_view_module_version": "1.5.0",
            "_view_name": "HTMLView",
            "description": "",
            "description_tooltip": null,
            "layout": "IPY_MODEL_1c42a31e2cc6466c9e99649dfd252275",
            "placeholder": "​",
            "style": "IPY_MODEL_e96a5b934607447ebf53d60e9cc38096",
            "value": " 70/70 [00:07&lt;00:00,  8.96it/s]"
          }
        },
        "1c42a31e2cc6466c9e99649dfd252275": {
          "model_module": "@jupyter-widgets/base",
          "model_module_version": "1.2.0",
          "model_name": "LayoutModel",
          "state": {
            "_model_module": "@jupyter-widgets/base",
            "_model_module_version": "1.2.0",
            "_model_name": "LayoutModel",
            "_view_count": null,
            "_view_module": "@jupyter-widgets/base",
            "_view_module_version": "1.2.0",
            "_view_name": "LayoutView",
            "align_content": null,
            "align_items": null,
            "align_self": null,
            "border": null,
            "bottom": null,
            "display": null,
            "flex": null,
            "flex_flow": null,
            "grid_area": null,
            "grid_auto_columns": null,
            "grid_auto_flow": null,
            "grid_auto_rows": null,
            "grid_column": null,
            "grid_gap": null,
            "grid_row": null,
            "grid_template_areas": null,
            "grid_template_columns": null,
            "grid_template_rows": null,
            "height": null,
            "justify_content": null,
            "justify_items": null,
            "left": null,
            "margin": null,
            "max_height": null,
            "max_width": null,
            "min_height": null,
            "min_width": null,
            "object_fit": null,
            "object_position": null,
            "order": null,
            "overflow": null,
            "overflow_x": null,
            "overflow_y": null,
            "padding": null,
            "right": null,
            "top": null,
            "visibility": null,
            "width": null
          }
        },
        "2106089e75b94977940f480d564b4a59": {
          "model_module": "@jupyter-widgets/controls",
          "model_module_version": "1.5.0",
          "model_name": "HBoxModel",
          "state": {
            "_dom_classes": [],
            "_model_module": "@jupyter-widgets/controls",
            "_model_module_version": "1.5.0",
            "_model_name": "HBoxModel",
            "_view_count": null,
            "_view_module": "@jupyter-widgets/controls",
            "_view_module_version": "1.5.0",
            "_view_name": "HBoxView",
            "box_style": "",
            "children": [
              "IPY_MODEL_dfcda6848214480a8ec05d747c99990e",
              "IPY_MODEL_351d133774df49e88de0f173f620bf04",
              "IPY_MODEL_0e64fd088c684b43b5768de2aa0df588"
            ],
            "layout": "IPY_MODEL_bb01aa0f84dd45e3b181b0fe81a15fb9"
          }
        },
        "351d133774df49e88de0f173f620bf04": {
          "model_module": "@jupyter-widgets/controls",
          "model_module_version": "1.5.0",
          "model_name": "FloatProgressModel",
          "state": {
            "_dom_classes": [],
            "_model_module": "@jupyter-widgets/controls",
            "_model_module_version": "1.5.0",
            "_model_name": "FloatProgressModel",
            "_view_count": null,
            "_view_module": "@jupyter-widgets/controls",
            "_view_module_version": "1.5.0",
            "_view_name": "ProgressView",
            "bar_style": "success",
            "description": "",
            "description_tooltip": null,
            "layout": "IPY_MODEL_007b1ab83b9449a982ae5d9910f34640",
            "max": 70,
            "min": 0,
            "orientation": "horizontal",
            "style": "IPY_MODEL_e43313186f344f36997b5ee209bcbf72",
            "value": 70
          }
        },
        "625681550aed4075a554acc4cdc3284e": {
          "model_module": "@jupyter-widgets/base",
          "model_module_version": "1.2.0",
          "model_name": "LayoutModel",
          "state": {
            "_model_module": "@jupyter-widgets/base",
            "_model_module_version": "1.2.0",
            "_model_name": "LayoutModel",
            "_view_count": null,
            "_view_module": "@jupyter-widgets/base",
            "_view_module_version": "1.2.0",
            "_view_name": "LayoutView",
            "align_content": null,
            "align_items": null,
            "align_self": null,
            "border": null,
            "bottom": null,
            "display": null,
            "flex": null,
            "flex_flow": null,
            "grid_area": null,
            "grid_auto_columns": null,
            "grid_auto_flow": null,
            "grid_auto_rows": null,
            "grid_column": null,
            "grid_gap": null,
            "grid_row": null,
            "grid_template_areas": null,
            "grid_template_columns": null,
            "grid_template_rows": null,
            "height": null,
            "justify_content": null,
            "justify_items": null,
            "left": null,
            "margin": null,
            "max_height": null,
            "max_width": null,
            "min_height": null,
            "min_width": null,
            "object_fit": null,
            "object_position": null,
            "order": null,
            "overflow": null,
            "overflow_x": null,
            "overflow_y": null,
            "padding": null,
            "right": null,
            "top": null,
            "visibility": null,
            "width": null
          }
        },
        "b1de0b85432f430285672e58da1cd1f9": {
          "model_module": "@jupyter-widgets/controls",
          "model_module_version": "1.5.0",
          "model_name": "DescriptionStyleModel",
          "state": {
            "_model_module": "@jupyter-widgets/controls",
            "_model_module_version": "1.5.0",
            "_model_name": "DescriptionStyleModel",
            "_view_count": null,
            "_view_module": "@jupyter-widgets/base",
            "_view_module_version": "1.2.0",
            "_view_name": "StyleView",
            "description_width": ""
          }
        },
        "bb01aa0f84dd45e3b181b0fe81a15fb9": {
          "model_module": "@jupyter-widgets/base",
          "model_module_version": "1.2.0",
          "model_name": "LayoutModel",
          "state": {
            "_model_module": "@jupyter-widgets/base",
            "_model_module_version": "1.2.0",
            "_model_name": "LayoutModel",
            "_view_count": null,
            "_view_module": "@jupyter-widgets/base",
            "_view_module_version": "1.2.0",
            "_view_name": "LayoutView",
            "align_content": null,
            "align_items": null,
            "align_self": null,
            "border": null,
            "bottom": null,
            "display": null,
            "flex": null,
            "flex_flow": null,
            "grid_area": null,
            "grid_auto_columns": null,
            "grid_auto_flow": null,
            "grid_auto_rows": null,
            "grid_column": null,
            "grid_gap": null,
            "grid_row": null,
            "grid_template_areas": null,
            "grid_template_columns": null,
            "grid_template_rows": null,
            "height": null,
            "justify_content": null,
            "justify_items": null,
            "left": null,
            "margin": null,
            "max_height": null,
            "max_width": null,
            "min_height": null,
            "min_width": null,
            "object_fit": null,
            "object_position": null,
            "order": null,
            "overflow": null,
            "overflow_x": null,
            "overflow_y": null,
            "padding": null,
            "right": null,
            "top": null,
            "visibility": null,
            "width": null
          }
        },
        "dfcda6848214480a8ec05d747c99990e": {
          "model_module": "@jupyter-widgets/controls",
          "model_module_version": "1.5.0",
          "model_name": "HTMLModel",
          "state": {
            "_dom_classes": [],
            "_model_module": "@jupyter-widgets/controls",
            "_model_module_version": "1.5.0",
            "_model_name": "HTMLModel",
            "_view_count": null,
            "_view_module": "@jupyter-widgets/controls",
            "_view_module_version": "1.5.0",
            "_view_name": "HTMLView",
            "description": "",
            "description_tooltip": null,
            "layout": "IPY_MODEL_625681550aed4075a554acc4cdc3284e",
            "placeholder": "​",
            "style": "IPY_MODEL_b1de0b85432f430285672e58da1cd1f9",
            "value": "Parsing nodes: 100%"
          }
        },
        "e43313186f344f36997b5ee209bcbf72": {
          "model_module": "@jupyter-widgets/controls",
          "model_module_version": "1.5.0",
          "model_name": "ProgressStyleModel",
          "state": {
            "_model_module": "@jupyter-widgets/controls",
            "_model_module_version": "1.5.0",
            "_model_name": "ProgressStyleModel",
            "_view_count": null,
            "_view_module": "@jupyter-widgets/base",
            "_view_module_version": "1.2.0",
            "_view_name": "StyleView",
            "bar_color": null,
            "description_width": ""
          }
        },
        "e96a5b934607447ebf53d60e9cc38096": {
          "model_module": "@jupyter-widgets/controls",
          "model_module_version": "1.5.0",
          "model_name": "DescriptionStyleModel",
          "state": {
            "_model_module": "@jupyter-widgets/controls",
            "_model_module_version": "1.5.0",
            "_model_name": "DescriptionStyleModel",
            "_view_count": null,
            "_view_module": "@jupyter-widgets/base",
            "_view_module_version": "1.2.0",
            "_view_name": "StyleView",
            "description_width": ""
          }
        }
      }
    }
  },
  "nbformat": 4,
  "nbformat_minor": 0
}
